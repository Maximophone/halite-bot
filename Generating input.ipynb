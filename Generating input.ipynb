{
 "cells": [
  {
   "cell_type": "code",
   "execution_count": 3,
   "metadata": {
    "collapsed": false
   },
   "outputs": [],
   "source": [
    "import numpy as np\n",
    "import json\n",
    "import matplotlib.pyplot as plt\n",
    "%matplotlib inline"
   ]
  },
  {
   "cell_type": "code",
   "execution_count": 4,
   "metadata": {
    "collapsed": true
   },
   "outputs": [],
   "source": [
    "def draw_arrow(d,res=16):\n",
    "    pattern = (0,0,0,1)\n",
    "    if res!=16:\n",
    "        raise Exception('Resolution must be 16')\n",
    "    dot = np.zeros((16,16,4))\n",
    "    arrow = np.zeros((16,16,4))\n",
    "    arrow[7:9,2:14]=pattern\n",
    "    arrow[6:10,12]=pattern\n",
    "    arrow[5:11,11]=pattern\n",
    "    arrow[4:12,10]=pattern\n",
    "    if d == 1:\n",
    "        return arrow.transpose((1,0,2))[::-1,:]\n",
    "    elif d == 2:\n",
    "        return arrow\n",
    "    elif d == 3:\n",
    "        return arrow.transpose((1,0,2))\n",
    "    elif d == 4:\n",
    "        return arrow[:,::-1]\n",
    "    elif d == 0:\n",
    "        return dot\n",
    "    \n",
    "arrows = {i:draw_arrow(i) for i in range(5)}\n",
    "\n",
    "def grad_red(x):\n",
    "    return (x,0,0,x)\n",
    "\n",
    "def grad_black(x):\n",
    "    return (1-x,1-x,1-x,x)\n",
    "\n",
    "def int_col(x):\n",
    "    d = {\n",
    "        0:(0,0,0,1),\n",
    "        1:(0,1,0,1),\n",
    "        2:(0,0,1,1),\n",
    "        3:(0,1,1,1),\n",
    "        4:(0,0.5,1,1),\n",
    "        5:(0,1,0.5,1),\n",
    "        6:(0.2,0.7,1,1),\n",
    "        7:(0.7,0.2,1,1),\n",
    "    }\n",
    "    return d[x]\n",
    "\n",
    "def compute_im(mat,res=16,function=None,style='heat',cmap=grad_red):\n",
    "    h = mat.shape[0]\n",
    "    w = mat.shape[1]\n",
    "    if function is None:\n",
    "        function = lambda x:x if x is not None else 0\n",
    "    im = np.zeros((h*res,w*res,4))\n",
    "    qmap = {}\n",
    "    vf = np.vectorize(function)\n",
    "    \n",
    "    qmap = vf(mat).astype(float)\n",
    "    qmin,qmax = qmap.min(),qmap.max()\n",
    "    \n",
    "    for y in range(h):\n",
    "        for x in range(w):\n",
    "            if style == 'heat':\n",
    "                im[y*res:y*res+res,x*res:x*res+res]=cmap((qmap[(y,x)]-qmin)/(qmax-qmin))\n",
    "            elif style == 'colors':\n",
    "                im[y*res:y*res+res,x*res:x*res+res]=cmap(qmap[(y,x)])\n",
    "            elif style == 'squares':\n",
    "                qnormed = (qmap[(y,x)]-qmin)/(qmax-qmin)\n",
    "                square_size = qnormed*(res-2)+1\n",
    "                start = int((res-square_size)/2)\n",
    "                end = int((res-square_size)/2 + square_size)\n",
    "                im[y*res+start:y*res+end,x*res+start:x*res+end]=(1,1,1,1)\n",
    "            elif style == 'arrows':\n",
    "                im[y*res:y*res+res,x*res:x*res+res]=arrows[int(qmap[(y,x)])]\n",
    "    return im\n",
    "\n",
    "def plot_im(im,alpha):\n",
    "    plt.imshow(im,alpha=alpha)\n",
    "\n",
    "def plot_ims(state=None):\n",
    "    ims = []\n",
    "    cmap_mapping = {\n",
    "        'colors':int_col,\n",
    "        'heat':grad_red\n",
    "        \n",
    "    }\n",
    "    function_mapping = {\n",
    "        'heat':lambda x:0. if x is None else x,\n",
    "        'arrows': lambda x: 0. if x is None else x\n",
    "    }\n",
    "    alphas = [1.,1.,0.8,0.2]\n",
    "    for k,v in state.items():\n",
    "        ims.append(compute_im(v,style=k,cmap=cmap_mapping.get(k),function=function_mapping.get(k)))\n",
    "    \n",
    "    for im,alpha in zip(ims,alphas):\n",
    "        if im is not None:\n",
    "            plot_im(im,alpha=alpha)\n",
    "    return ims"
   ]
  },
  {
   "cell_type": "code",
   "execution_count": 240,
   "metadata": {
    "collapsed": true
   },
   "outputs": [],
   "source": [
    "def get_frame(replay,step):\n",
    "    frame = np.array(replay['frames'][step])\n",
    "    prods = np.array(replay['productions'])\n",
    "    return np.concatenate([frame,prods.reshape(prods.shape+(1,))],axis = 2)\n",
    "\n",
    "def get_frames(replay):\n",
    "    frames = np.array(replay['frames'])\n",
    "    prods = np.repeat(np.array(replay['productions']).reshape((1,frames.shape[1],frames.shape[2],1)),frames.shape[0],axis=0)\n",
    "    return np.concatenate([frames,prods],axis = 3)\n",
    "\n",
    "def center_frame(frame,position,wrap_size=None):\n",
    "    if not wrap_size:\n",
    "        h = frame.shape[0]\n",
    "        w = frame.shape[1]\n",
    "    else:\n",
    "        h,w = wrap_size\n",
    "    return np.take(np.take(frame,\n",
    "                np.arange(-int(h/2),int(h/2) + 1)+position[0],axis=0,mode='wrap'),\n",
    "                np.arange(-int(w/2),int(w/2) + 1)+position[1],axis=1,mode='wrap')\n",
    "\n",
    "def find_start(replay,player_id):\n",
    "    frame = get_frame(replay,0)\n",
    "    x,y = np.where(frame[:,:,0]==player_id)\n",
    "    return (x[0],y[0])\n",
    "\n",
    "def get_centroid_1D(X,L):\n",
    "    n = len(X)\n",
    "    mu_x = 1./n*sum([math.cos(x/float(L)*2*math.pi) for x in X])\n",
    "    mu_y = 1./n*sum([math.sin(x/float(L)*2*math.pi) for x in X])\n",
    "    if mu_x == 0:\n",
    "        if mu_y > 0:\n",
    "            return math.pi/2.\n",
    "        else:\n",
    "            return -math.pi/2.\n",
    "    return int(round(L/math.pi/2.*math.atan2(mu_y,mu_x)%L))\n",
    "    \n",
    "\n",
    "def get_centroid(frame,player_id):\n",
    "    X,Y = np.where(frame[:,:,0]==player_id)\n",
    "    mX = get_centroid_1D(X,frame.shape[0])\n",
    "    mY = get_centroid_1D(Y,frame.shape[1])\n",
    "    return (mX,mY)"
   ]
  },
  {
   "cell_type": "code",
   "execution_count": 247,
   "metadata": {
    "collapsed": false
   },
   "outputs": [
    {
     "data": {
      "text/plain": [
       "(240, 45, 45)"
      ]
     },
     "execution_count": 247,
     "metadata": {},
     "output_type": "execute_result"
    }
   ],
   "source": [
    "np.array(replay['moves']).shape"
   ]
  },
  {
   "cell_type": "code",
   "execution_count": 250,
   "metadata": {
    "collapsed": true
   },
   "outputs": [],
   "source": [
    "moves = (np.arange(5) == np.array(replay['moves'])[:,:,:,None]).astype(int)"
   ]
  },
  {
   "cell_type": "code",
   "execution_count": 251,
   "metadata": {
    "collapsed": false
   },
   "outputs": [
    {
     "data": {
      "text/plain": [
       "(240, 45, 45, 5)"
      ]
     },
     "execution_count": 251,
     "metadata": {},
     "output_type": "execute_result"
    }
   ],
   "source": [
    "moves.shape"
   ]
  },
  {
   "cell_type": "code",
   "execution_count": 202,
   "metadata": {
    "collapsed": false
   },
   "outputs": [],
   "source": [
    "with open('../halite-match-manager/replays/1481388603-1161163862.hlt','r') as f:\n",
    "    replay = json.load(f)"
   ]
  },
  {
   "cell_type": "code",
   "execution_count": 300,
   "metadata": {
    "collapsed": false
   },
   "outputs": [
    {
     "data": {
      "image/png": "[encoded data removed]",
      "text/plain": [
       "<matplotlib.figure.Figure at 0x7fa2aa8c7c10>"
      ]
     },
     "metadata": {},
     "output_type": "display_data"
    }
   ],
   "source": [
    "step = 225\n",
    "frame = get_frames(replay)[step]\n",
    "moves = np.array(replay['moves'])\n",
    "is_player = frames[:,:,:,0]==1\n",
    "filtered_moves = np.where(is_player[:-1],moves,np.zeros_like(moves))\n",
    "\n",
    "state = {\n",
    "    'colors':frame[:,:,0],\n",
    "    'heat':frame[:,:,2],\n",
    "    'squares':frame[:,:,1],\n",
    "    'arrows':filtered_moves[step]\n",
    "}\n",
    "\n",
    "ims = plot_ims(state)"
   ]
  },
  {
   "cell_type": "code",
   "execution_count": 301,
   "metadata": {
    "collapsed": false
   },
   "outputs": [
    {
     "data": {
      "image/png": "[encoded data removed]",
      "text/plain": [
       "<matplotlib.figure.Figure at 0x7fa2aaa34710>"
      ]
     },
     "metadata": {},
     "output_type": "display_data"
    }
   ],
   "source": [
    "new_frame = center_frame(frame,get_centroid(frame,3),wrap_size=(50,50))\n",
    "\n",
    "state = {\n",
    "    'colors':new_frame[:,:,0],\n",
    "    'heat':new_frame[:,:,2],\n",
    "    'squares':new_frame[:,:,1],\n",
    "}\n",
    "\n",
    "ims = plot_ims(state)"
   ]
  },
  {
   "cell_type": "code",
   "execution_count": 66,
   "metadata": {
    "collapsed": false
   },
   "outputs": [
    {
     "data": {
      "text/plain": [
       "(29, 29, 3)"
      ]
     },
     "execution_count": 66,
     "metadata": {},
     "output_type": "execute_result"
    }
   ],
   "source": [
    "new_frame.shape"
   ]
  },
  {
   "cell_type": "code",
   "execution_count": 67,
   "metadata": {
    "collapsed": false
   },
   "outputs": [
    {
     "data": {
      "text/plain": [
       "(14, 14, 3)"
      ]
     },
     "execution_count": 67,
     "metadata": {},
     "output_type": "execute_result"
    }
   ],
   "source": [
    "frame.shape"
   ]
  },
  {
   "cell_type": "code",
   "execution_count": 29,
   "metadata": {
    "collapsed": true
   },
   "outputs": [],
   "source": [
    "import math"
   ]
  },
  {
   "cell_type": "code",
   "execution_count": 128,
   "metadata": {
    "collapsed": false
   },
   "outputs": [
    {
     "data": {
      "text/plain": [
       "[<matplotlib.lines.Line2D at 0x7fa2b33a9b10>]"
      ]
     },
     "execution_count": 128,
     "metadata": {},
     "output_type": "execute_result"
    },
    {
     "data": {
      "image/png": "[encoded data removed]",
      "text/plain": [
       "<matplotlib.figure.Figure at 0x7fa2b3025ed0>"
      ]
     },
     "metadata": {},
     "output_type": "display_data"
    }
   ],
   "source": [
    "X = np.linspace(-10,10,100)\n",
    "Y = [math.atan(x)+math.pi/2. for x in X]\n",
    "plt.plot(X,Y)"
   ]
  },
  {
   "cell_type": "code",
   "execution_count": 37,
   "metadata": {
    "collapsed": false
   },
   "outputs": [
    {
     "data": {
      "text/plain": [
       "1.0038848218538872"
      ]
     },
     "execution_count": 37,
     "metadata": {},
     "output_type": "execute_result"
    }
   ],
   "source": [
    "math.atan(math.pi/2)"
   ]
  },
  {
   "cell_type": "code",
   "execution_count": 69,
   "metadata": {
    "collapsed": false
   },
   "outputs": [
    {
     "data": {
      "text/plain": [
       "(14.0, 12.0)"
      ]
     },
     "execution_count": 69,
     "metadata": {},
     "output_type": "execute_result"
    }
   ],
   "source": [
    "get_centroid(frame,1)"
   ]
  },
  {
   "cell_type": "code",
   "execution_count": 167,
   "metadata": {
    "collapsed": true
   },
   "outputs": [],
   "source": [
    "math.atan2?"
   ]
  },
  {
   "cell_type": "code",
   "execution_count": 61,
   "metadata": {
    "collapsed": false
   },
   "outputs": [
    {
     "data": {
      "text/plain": [
       "29.0"
      ]
     },
     "execution_count": 61,
     "metadata": {},
     "output_type": "execute_result"
    }
   ],
   "source": [
    "get_centroid_1D([1,2,27,27,28],30)"
   ]
  },
  {
   "cell_type": "code",
   "execution_count": 63,
   "metadata": {
    "collapsed": false
   },
   "outputs": [],
   "source": [
    "player_tiles = frame[:,:,0]==1"
   ]
  },
  {
   "cell_type": "code",
   "execution_count": 65,
   "metadata": {
    "collapsed": false
   },
   "outputs": [
    {
     "data": {
      "text/plain": [
       "(array([6, 6, 7, 7, 7, 7, 8]), array([5, 6, 3, 4, 5, 6, 4]))"
      ]
     },
     "execution_count": 65,
     "metadata": {},
     "output_type": "execute_result"
    }
   ],
   "source": [
    "np.where(frame[:,:,0]==1)"
   ]
  },
  {
   "cell_type": "code",
   "execution_count": 64,
   "metadata": {
    "collapsed": false
   },
   "outputs": [
    {
     "data": {
      "text/plain": [
       "array([[False, False, False, False, False, False, False, False, False,\n",
       "        False, False, False, False, False],\n",
       "       [False, False, False, False, False, False, False, False, False,\n",
       "        False, False, False, False, False],\n",
       "       [False, False, False, False, False, False, False, False, False,\n",
       "        False, False, False, False, False],\n",
       "       [False, False, False, False, False, False, False, False, False,\n",
       "        False, False, False, False, False],\n",
       "       [False, False, False, False, False, False, False, False, False,\n",
       "        False, False, False, False, False],\n",
       "       [False, False, False, False, False, False, False, False, False,\n",
       "        False, False, False, False, False],\n",
       "       [False, False, False, False, False,  True,  True, False, False,\n",
       "        False, False, False, False, False],\n",
       "       [False, False, False,  True,  True,  True,  True, False, False,\n",
       "        False, False, False, False, False],\n",
       "       [False, False, False, False,  True, False, False, False, False,\n",
       "        False, False, False, False, False],\n",
       "       [False, False, False, False, False, False, False, False, False,\n",
       "        False, False, False, False, False],\n",
       "       [False, False, False, False, False, False, False, False, False,\n",
       "        False, False, False, False, False],\n",
       "       [False, False, False, False, False, False, False, False, False,\n",
       "        False, False, False, False, False],\n",
       "       [False, False, False, False, False, False, False, False, False,\n",
       "        False, False, False, False, False],\n",
       "       [False, False, False, False, False, False, False, False, False,\n",
       "        False, False, False, False, False]], dtype=bool)"
      ]
     },
     "execution_count": 64,
     "metadata": {},
     "output_type": "execute_result"
    }
   ],
   "source": [
    "player_tiles"
   ]
  },
  {
   "cell_type": "code",
   "execution_count": null,
   "metadata": {
    "collapsed": true
   },
   "outputs": [],
   "source": []
  },
  {
   "cell_type": "code",
   "execution_count": 268,
   "metadata": {
    "collapsed": false
   },
   "outputs": [],
   "source": [
    "moves = np.array(replay['moves'])"
   ]
  },
  {
   "cell_type": "code",
   "execution_count": 254,
   "metadata": {
    "collapsed": true
   },
   "outputs": [],
   "source": [
    "frames = get_frames(replay)"
   ]
  },
  {
   "cell_type": "code",
   "execution_count": 270,
   "metadata": {
    "collapsed": false
   },
   "outputs": [
    {
     "data": {
      "text/plain": [
       "(241, 45, 45, 3)"
      ]
     },
     "execution_count": 270,
     "metadata": {},
     "output_type": "execute_result"
    }
   ],
   "source": [
    "frames.shape"
   ]
  },
  {
   "cell_type": "code",
   "execution_count": 269,
   "metadata": {
    "collapsed": false
   },
   "outputs": [
    {
     "data": {
      "text/plain": [
       "(240, 45, 45)"
      ]
     },
     "execution_count": 269,
     "metadata": {},
     "output_type": "execute_result"
    }
   ],
   "source": [
    "moves.shape"
   ]
  },
  {
   "cell_type": "code",
   "execution_count": 290,
   "metadata": {
    "collapsed": false
   },
   "outputs": [
    {
     "data": {
      "text/plain": [
       "1092"
      ]
     },
     "execution_count": 290,
     "metadata": {},
     "output_type": "execute_result"
    }
   ],
   "source": [
    "np.sum(frames[200,:,:,0]==3)"
   ]
  },
  {
   "cell_type": "code",
   "execution_count": 292,
   "metadata": {
    "collapsed": false
   },
   "outputs": [],
   "source": [
    "is_player = frames[:,:,:,0]==3"
   ]
  },
  {
   "cell_type": "code",
   "execution_count": 293,
   "metadata": {
    "collapsed": false
   },
   "outputs": [
    {
     "data": {
      "text/plain": [
       "(241, 45, 45)"
      ]
     },
     "execution_count": 293,
     "metadata": {},
     "output_type": "execute_result"
    }
   ],
   "source": [
    "is_player.shape\n",
    "\n",
    "np.where(is_player[:-1],moves,np.zeros_like(moves))"
   ]
  },
  {
   "cell_type": "code",
   "execution_count": 302,
   "metadata": {
    "collapsed": true
   },
   "outputs": [],
   "source": [
    "moves = np.array(replay['moves'])"
   ]
  },
  {
   "cell_type": "code",
   "execution_count": null,
   "metadata": {
    "collapsed": true
   },
   "outputs": [],
   "source": []
  },
  {
   "cell_type": "code",
   "execution_count": 310,
   "metadata": {
    "collapsed": true
   },
   "outputs": [],
   "source": [
    "is_player = frames[:,:,:,0]==3\n",
    "filtered_moves = np.where(is_player[:-1],moves,np.zeros_like(moves))"
   ]
  },
  {
   "cell_type": "code",
   "execution_count": 311,
   "metadata": {
    "collapsed": false
   },
   "outputs": [
    {
     "data": {
      "text/plain": [
       "0.93124897119341565"
      ]
     },
     "execution_count": 311,
     "metadata": {},
     "output_type": "execute_result"
    }
   ],
   "source": [
    "np.sum(filtered_moves==0)/float(np.size(filtered_moves))"
   ]
  },
  {
   "cell_type": "code",
   "execution_count": null,
   "metadata": {
    "collapsed": true
   },
   "outputs": [],
   "source": []
  }
 ],
 "metadata": {
  "anaconda-cloud": {},
  "kernelspec": {
   "display_name": "Python [conda root]",
   "language": "python",
   "name": "conda-root-py"
  },
  "language_info": {
   "codemirror_mode": {
    "name": "ipython",
    "version": 2
   },
   "file_extension": ".py",
   "mimetype": "text/x-python",
   "name": "python",
   "nbconvert_exporter": "python",
   "pygments_lexer": "ipython2",
   "version": "2.7.12"
  }
 },
 "nbformat": 4,
 "nbformat_minor": 1
}
