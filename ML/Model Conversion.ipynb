{
 "cells": [
  {
   "cell_type": "code",
   "execution_count": 1,
   "metadata": {
    "collapsed": false
   },
   "outputs": [
    {
     "name": "stderr",
     "output_type": "stream",
     "text": [
      "Using TensorFlow backend.\n"
     ]
    }
   ],
   "source": [
    "import keras\n",
    "from keras.layers.convolutional import Convolution2D\n",
    "from keras.optimizers import RMSprop"
   ]
  },
  {
   "cell_type": "code",
   "execution_count": 2,
   "metadata": {
    "collapsed": true
   },
   "outputs": [],
   "source": [
    "input_shape = (51,51)"
   ]
  },
  {
   "cell_type": "code",
   "execution_count": 3,
   "metadata": {
    "collapsed": true
   },
   "outputs": [],
   "source": [
    "model = keras.models.load_model('model_0.h5')"
   ]
  },
  {
   "cell_type": "code",
   "execution_count": 14,
   "metadata": {
    "collapsed": false
   },
   "outputs": [],
   "source": [
    "new_model = keras.models.Sequential()\n",
    "\n",
    "new_model.add(Convolution2D(\n",
    "        16,5,5,\n",
    "        activation='relu',\n",
    "        border_mode='same',\n",
    "        input_shape=input_shape+(4,),\n",
    "        weights=model.layers[0].get_weights()))\n",
    "new_model.add(Convolution2D(\n",
    "        32,5,5,\n",
    "        activation='relu',\n",
    "        border_mode='same',\n",
    "        weights=model.layers[1].get_weights()))\n",
    "new_model.add(Convolution2D(\n",
    "        64,5,5,\n",
    "        activation='relu',\n",
    "        border_mode='same',\n",
    "        weights=model.layers[2].get_weights()))\n",
    "new_model.add(Convolution2D(\n",
    "        64,5,5,\n",
    "        activation='relu',\n",
    "        border_mode='same'))\n",
    "new_model.add(Convolution2D(\n",
    "        5,5,5,\n",
    "        activation='relu',\n",
    "        border_mode='same',\n",
    "        weights=model.layers[3].get_weights()))\n",
    "\n",
    "opt = RMSprop(lr=0.00001)\n",
    "new_model.compile(loss='mse', optimizer=opt, metrics=['accuracy'])"
   ]
  },
  {
   "cell_type": "code",
   "execution_count": 22,
   "metadata": {
    "collapsed": true
   },
   "outputs": [],
   "source": []
  },
  {
   "cell_type": "code",
   "execution_count": 13,
   "metadata": {
    "collapsed": false
   },
   "outputs": [
    {
     "data": {
      "text/plain": [
       "(5, 5, 64, 5)"
      ]
     },
     "execution_count": 13,
     "metadata": {},
     "output_type": "execute_result"
    }
   ],
   "source": [
    "model.layers[-1].get_weights()[0].shape"
   ]
  },
  {
   "cell_type": "code",
   "execution_count": 16,
   "metadata": {
    "collapsed": true
   },
   "outputs": [],
   "source": [
    "new_model.save('model_1.h5')"
   ]
  },
  {
   "cell_type": "code",
   "execution_count": null,
   "metadata": {
    "collapsed": true
   },
   "outputs": [],
   "source": []
  }
 ],
 "metadata": {
  "kernelspec": {
   "display_name": "Python 2",
   "language": "python",
   "name": "python2"
  },
  "language_info": {
   "codemirror_mode": {
    "name": "ipython",
    "version": 2
   },
   "file_extension": ".py",
   "mimetype": "text/x-python",
   "name": "python",
   "nbconvert_exporter": "python",
   "pygments_lexer": "ipython2",
   "version": "2.7.6"
  }
 },
 "nbformat": 4,
 "nbformat_minor": 0
}
