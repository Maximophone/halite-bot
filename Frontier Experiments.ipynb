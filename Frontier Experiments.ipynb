{
 "cells": [
  {
   "cell_type": "code",
   "execution_count": 3,
   "metadata": {
    "collapsed": false
   },
   "outputs": [],
   "source": [
    "import random\n",
    "\n",
    "import matplotlib.pyplot as plt\n",
    "import numpy as np\n",
    "%matplotlib inline\n",
    "import cPickle as pickle\n",
    "\n",
    "from hlt import *\n",
    "\n",
    "import MyBot"
   ]
  },
  {
   "cell_type": "code",
   "execution_count": 4,
   "metadata": {
    "collapsed": true
   },
   "outputs": [],
   "source": [
    "with open('gameMap250.p','rb') as f:\n",
    "    myID,gameMap = pickle.load(f)"
   ]
  },
  {
   "cell_type": "code",
   "execution_count": 5,
   "metadata": {
    "collapsed": true
   },
   "outputs": [],
   "source": [
    "def plot_squares(locs,height,width,res=2):\n",
    "    im = np.zeros((height*res,width*res))\n",
    "    for loc in locs:\n",
    "        im[loc.y*res:loc.y*res+res,loc.x*res:loc.x*res+res]=1\n",
    "    plt.imshow(im)\n",
    "\n",
    "def plot_quantity(gameMap,quantity,res=2,function=None):\n",
    "    if function is None:\n",
    "        function = lambda x:x\n",
    "    im = np.zeros((gameMap.height*res,gameMap.width*res))\n",
    "    for y in range(gameMap.height):\n",
    "        for x in range(gameMap.width):\n",
    "            loc = Location(x,y)\n",
    "            im[loc.y*res:loc.y*res+res,loc.x*res:loc.x*res+res]=function(getattr(gameMap.getSite(loc),quantity))\n",
    "    plt.imshow(im)\n",
    "\n",
    "def plot_quantity_and_dots(locs,gameMap,quantity,res=2,function=None):\n",
    "    plt.scatter([l.x*res for l in locs],[l.y*res for l in locs])\n",
    "    plot_quantity(gameMap,quantity,res,function)"
   ]
  },
  {
   "cell_type": "code",
   "execution_count": 8,
   "metadata": {
    "collapsed": false
   },
   "outputs": [],
   "source": [
    "frontier = MyBot.find_frontier(myID,gameMap)"
   ]
  },
  {
   "cell_type": "code",
   "execution_count": 17,
   "metadata": {
    "collapsed": false
   },
   "outputs": [
    {
     "data": {
      "image/png": "[encoded data removed]",
      "text/plain": [
       "<matplotlib.figure.Figure at 0x7f7612f6fad0>"
      ]
     },
     "metadata": {},
     "output_type": "display_data"
    }
   ],
   "source": [
    "plot_squares(frontier,gameMap.height,gameMap.width)"
   ]
  },
  {
   "cell_type": "code",
   "execution_count": 12,
   "metadata": {
    "collapsed": true
   },
   "outputs": [],
   "source": [
    "new_frontier = MyBot.smooth_frontier(frontier,gameMap)"
   ]
  },
  {
   "cell_type": "code",
   "execution_count": 13,
   "metadata": {
    "collapsed": false
   },
   "outputs": [
    {
     "name": "stderr",
     "output_type": "stream",
     "text": [
      "/usr/local/lib/python2.7/dist-packages/ipykernel/__main__.py:4: DeprecationWarning: using a non-integer number instead of an integer will result in an error in the future\n"
     ]
    },
    {
     "data": {
      "image/png": "[encoded data removed]",
      "text/plain": [
       "<matplotlib.figure.Figure at 0x7f761aa27e10>"
      ]
     },
     "metadata": {},
     "output_type": "display_data"
    }
   ],
   "source": [
    "plot_squares(new_frontier,gameMap.height,gameMap.width)"
   ]
  },
  {
   "cell_type": "code",
   "execution_count": 15,
   "metadata": {
    "collapsed": false
   },
   "outputs": [
    {
     "data": {
      "text/plain": [
       "[(5.0, 28.0),\n",
       " (3.0, 24.0),\n",
       " (4.0, 23.0),\n",
       " (5.0, 23.0),\n",
       " (6.0, 23.0),\n",
       " (4.0, 24.0),\n",
       " (4.0, 24.0),\n",
       " (6.0, 24.0),\n",
       " (8.0, 24.0),\n",
       " (9.0, 24.0),\n",
       " (8.0, 24.0),\n",
       " (4.0, 25.0),\n",
       " (5.0, 25.0),\n",
       " (6.0, 25.0),\n",
       " (11.0, 25.0),\n",
       " (17.0, 25.0),\n",
       " (28.0, 25.0),\n",
       " (13.0, 26.0),\n",
       " (9.0, 26.0),\n",
       " (5.0, 27.0),\n",
       " (10.0, 27.0),\n",
       " (12.0, 27.0),\n",
       " (15.0, 28.0),\n",
       " (21.0, 28.0),\n",
       " (29.0, 28.0),\n",
       " (14.0, 29.0),\n",
       " (13.0, 29.0),\n",
       " (14.0, 29.0),\n",
       " (16.0, 30.0),\n",
       " (17.0, 30.0),\n",
       " (19.0, 30.0),\n",
       " (24.0, 30.0),\n",
       " (30.0, 30.0),\n",
       " (16.0, 31.0),\n",
       " (17.0, 31.0),\n",
       " (20.0, 32.0),\n",
       " (28.0, 32.0),\n",
       " (40.0, 32.0),\n",
       " (40.0, 32.0),\n",
       " (26.0, 33.0),\n",
       " (22.0, 33.0),\n",
       " (25.0, 33.0),\n",
       " (33.0, 33.0),\n",
       " (23.0, 34.0),\n",
       " (21.0, 34.0),\n",
       " (25.0, 34.0),\n",
       " (33.0, 34.0),\n",
       " (22.0, 35.0),\n",
       " (20.0, 35.0),\n",
       " (23.0, 35.0),\n",
       " (29.0, 35.0),\n",
       " (12.0, 36.0),\n",
       " (6.0, 36.0),\n",
       " (9.0, 36.0),\n",
       " (7.0, 37.0),\n",
       " (9.0, 37.0),\n",
       " (7.0, 38.0),\n",
       " (9.0, 38.0),\n",
       " (7.0, 39.0),\n",
       " (9.0, 39.0),\n",
       " (7.0, 40.0),\n",
       " (10.0, 40.0),\n",
       " (10.0, 40.0),\n",
       " (7.0, 41.0),\n",
       " (9.0, 41.0),\n",
       " (9.0, 41.0),\n",
       " (7.0, 42.0),\n",
       " (8.0, 42.0),\n",
       " (7.0, 43.0),\n",
       " (8.0, 43.0),\n",
       " (7.0, 44.0),\n",
       " (8.0, 44.0),\n",
       " (7.0, 45.0),\n",
       " (8.0, 45.0),\n",
       " (7.0, 45.0),\n",
       " (7.0, 40.0)]"
      ]
     },
     "execution_count": 15,
     "metadata": {},
     "output_type": "execute_result"
    }
   ],
   "source": [
    "[(l.x,l.y) for l in new_frontier]"
   ]
  },
  {
   "cell_type": "code",
   "execution_count": 35,
   "metadata": {
    "collapsed": false
   },
   "outputs": [
    {
     "data": {
      "image/png": "[encoded data removed]",
      "text/plain": [
       "<matplotlib.figure.Figure at 0x7f7612a90810>"
      ]
     },
     "metadata": {},
     "output_type": "display_data"
    }
   ],
   "source": [
    "with open('frontier60.p','rb') as f:\n",
    "    frontier = pickle.load(f)\n",
    "plot_squares(frontier,gameMap.height,gameMap.width)"
   ]
  },
  {
   "cell_type": "code",
   "execution_count": 36,
   "metadata": {
    "collapsed": true
   },
   "outputs": [],
   "source": [
    "new_frontier = MyBot.smooth_frontier(frontier,gameMap)"
   ]
  },
  {
   "cell_type": "code",
   "execution_count": 38,
   "metadata": {
    "collapsed": false
   },
   "outputs": [
    {
     "name": "stderr",
     "output_type": "stream",
     "text": [
      "/usr/local/lib/python2.7/dist-packages/ipykernel/__main__.py:4: DeprecationWarning: using a non-integer number instead of an integer will result in an error in the future\n"
     ]
    },
    {
     "data": {
      "image/png": "[encoded data removed]",
      "text/plain": [
       "<matplotlib.figure.Figure at 0x7f7612ecd4d0>"
      ]
     },
     "metadata": {},
     "output_type": "display_data"
    }
   ],
   "source": [
    "plot_squares(new_frontier,gameMap.height,gameMap.width)"
   ]
  },
  {
   "cell_type": "code",
   "execution_count": null,
   "metadata": {
    "collapsed": true
   },
   "outputs": [],
   "source": []
  }
 ],
 "metadata": {
  "kernelspec": {
   "display_name": "Python 2",
   "language": "python",
   "name": "python2"
  },
  "language_info": {
   "codemirror_mode": {
    "name": "ipython",
    "version": 2
   },
   "file_extension": ".py",
   "mimetype": "text/x-python",
   "name": "python",
   "nbconvert_exporter": "python",
   "pygments_lexer": "ipython2",
   "version": "2.7.6"
  }
 },
 "nbformat": 4,
 "nbformat_minor": 0
}
