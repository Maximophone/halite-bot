{
 "cells": [
  {
   "cell_type": "code",
   "execution_count": 1,
   "metadata": {
    "collapsed": true
   },
   "outputs": [],
   "source": [
    "from visualiser import plot_ims\n",
    "import cPickle as pickle\n",
    "import matplotlib.pyplot as plt\n",
    "%matplotlib inline\n",
    "import utils\n",
    "from hlt import *\n",
    "import math"
   ]
  },
  {
   "cell_type": "code",
   "execution_count": 35,
   "metadata": {
    "collapsed": true
   },
   "outputs": [],
   "source": [
    "with open('dumps/gameMap_smartfrontier_50','rb') as f:\n",
    "    myID,gameMap = pickle.load(f)"
   ]
  },
  {
   "cell_type": "code",
   "execution_count": 36,
   "metadata": {
    "collapsed": true
   },
   "outputs": [],
   "source": [
    "def attractiveness(site):\n",
    "    return (255.-site.strength)/255 + site.production/30.\n",
    "\n",
    "def map_attractiveness(myID,gameMap):\n",
    "    for y in range(gameMap.height):\n",
    "        for x in range(gameMap.width):\n",
    "            loc = Location(x,y)\n",
    "            site = gameMap.getSite(loc)\n",
    "            if site.owner == myID:\n",
    "                site.attractiveness = -999\n",
    "            else:\n",
    "                site.attractiveness = attractiveness(site)\n",
    "            site.potential_attr = site.attractiveness"
   ]
  },
  {
   "cell_type": "code",
   "execution_count": 37,
   "metadata": {
    "collapsed": true
   },
   "outputs": [],
   "source": [
    "def find_inner(myID,locsites):\n",
    "    inner = []\n",
    "    for x,y,loc in locslist:\n",
    "        if locsites[(loc,0)].owner == myID:\n",
    "            inner.append(loc)\n",
    "    return inner"
   ]
  },
  {
   "cell_type": "code",
   "execution_count": 38,
   "metadata": {
    "collapsed": true
   },
   "outputs": [],
   "source": [
    "locsmap = {(x,y):Location(x,y) for x in range(gameMap.width) for y in range(gameMap.height)}\n",
    "locslist = [(x,y,Location(x,y)) for x in range(gameMap.width) for y in range(gameMap.height)]\n",
    "locsmap_d = {(loc,d):gameMap.getLocation(loc,d) for loc in locsmap.values() for d in DIRECTIONS}\n",
    "locsites = {(loc,d):gameMap.getSite(loc,d) for loc in locsmap.values() for d in DIRECTIONS}"
   ]
  },
  {
   "cell_type": "code",
   "execution_count": 39,
   "metadata": {
    "collapsed": false
   },
   "outputs": [],
   "source": [
    "frontier = utils.find_frontier(myID,gameMap)\n",
    "inner = find_inner(myID,locsites)"
   ]
  },
  {
   "cell_type": "code",
   "execution_count": 71,
   "metadata": {
    "collapsed": true
   },
   "outputs": [],
   "source": [
    "map_attractiveness(myID,gameMap)"
   ]
  },
  {
   "cell_type": "code",
   "execution_count": 72,
   "metadata": {
    "collapsed": false
   },
   "outputs": [
    {
     "data": {
      "text/plain": [
       "38"
      ]
     },
     "execution_count": 72,
     "metadata": {},
     "output_type": "execute_result"
    }
   ],
   "source": [
    "len(frontier)"
   ]
  },
  {
   "cell_type": "code",
   "execution_count": 82,
   "metadata": {
    "collapsed": true
   },
   "outputs": [],
   "source": [
    "inner_set = set(inner)\n",
    "frontier_set = set(frontier)\n",
    "total_set = inner_set.union(frontier_set)\n",
    "visited = set()\n",
    "sorted_nodes = [(f,locsites[(f,0)].attractiveness) for f in frontier]\n",
    "sorted_nodes.sort(key=lambda x:x[1])\n",
    "potentials = {loc:None for loc in inner}\n",
    "for loc in frontier:\n",
    "    potentials[loc] = locsites[(loc,0)].potential_attr"
   ]
  },
  {
   "cell_type": "code",
   "execution_count": 83,
   "metadata": {
    "collapsed": true
   },
   "outputs": [],
   "source": [
    "current,value = sorted_nodes.pop()"
   ]
  },
  {
   "cell_type": "code",
   "execution_count": 85,
   "metadata": {
    "collapsed": false
   },
   "outputs": [
    {
     "data": {
      "text/plain": [
       "(loc(22,4), 1.16078431372549)"
      ]
     },
     "execution_count": 85,
     "metadata": {},
     "output_type": "execute_result"
    }
   ],
   "source": [
    "current,value"
   ]
  },
  {
   "cell_type": "code",
   "execution_count": 86,
   "metadata": {
    "collapsed": true
   },
   "outputs": [],
   "source": [
    "visited.add(current)"
   ]
  },
  {
   "cell_type": "code",
   "execution_count": 87,
   "metadata": {
    "collapsed": false
   },
   "outputs": [
    {
     "data": {
      "text/plain": [
       "{loc(22,4)}"
      ]
     },
     "execution_count": 87,
     "metadata": {},
     "output_type": "execute_result"
    }
   ],
   "source": [
    "visited"
   ]
  },
  {
   "cell_type": "code",
   "execution_count": null,
   "metadata": {
    "collapsed": true
   },
   "outputs": [],
   "source": [
    "for d in CARDINALS:\n",
    "    new_loc = locsmap_d[(current,d)]\n",
    "    if not new_loc in inner_set or new_loc in visited:\n",
    "        continue\n",
    "    potentials[new_loc] = potentials[loc] - d\n",
    "    sorted_nodes.append((new_loc,potentials[new_loc]))\n",
    "    sorted_nodes.sort(key=lambda x:x[1])"
   ]
  },
  {
   "cell_type": "code",
   "execution_count": 88,
   "metadata": {
    "collapsed": false
   },
   "outputs": [
    {
     "data": {
      "text/plain": [
       "{loc(15,0): 0.5274509803921569,\n",
       " loc(14,1): 0.6705882352941176,\n",
       " loc(23,0): 0.8196078431372549,\n",
       " loc(16,29): 0.8254901960784313,\n",
       " loc(16,28): 0.8784313725490196,\n",
       " loc(24,29): 0.8490196078431372,\n",
       " loc(24,28): 0.8392156862745098,\n",
       " loc(13,8): None,\n",
       " loc(13,4): None,\n",
       " loc(13,7): None,\n",
       " loc(13,5): None,\n",
       " loc(13,6): None,\n",
       " loc(13,3): None,\n",
       " loc(13,2): None,\n",
       " loc(14,3): None,\n",
       " loc(14,6): None,\n",
       " loc(14,4): None,\n",
       " loc(14,2): None,\n",
       " loc(14,7): None,\n",
       " loc(14,5): None,\n",
       " loc(14,8): None,\n",
       " loc(17,7): None,\n",
       " loc(17,1): None,\n",
       " loc(17,5): None,\n",
       " loc(17,8): None,\n",
       " loc(17,6): None,\n",
       " loc(17,2): None,\n",
       " loc(17,4): None,\n",
       " loc(17,0): None,\n",
       " loc(17,3): None,\n",
       " loc(15,1): None,\n",
       " loc(15,2): None,\n",
       " loc(16,8): None,\n",
       " loc(15,6): None,\n",
       " loc(15,3): None,\n",
       " loc(16,2): None,\n",
       " loc(16,5): None,\n",
       " loc(15,8): None,\n",
       " loc(16,3): None,\n",
       " loc(15,9): None,\n",
       " loc(15,4): None,\n",
       " loc(16,4): None,\n",
       " loc(16,7): None,\n",
       " loc(16,1): None,\n",
       " loc(15,5): None,\n",
       " loc(16,0): None,\n",
       " loc(16,6): None,\n",
       " loc(15,7): None,\n",
       " loc(19,6): None,\n",
       " loc(19,29): None,\n",
       " loc(19,28): None,\n",
       " loc(19,3): None,\n",
       " loc(19,2): None,\n",
       " loc(19,5): None,\n",
       " loc(19,4): None,\n",
       " loc(21,3): None,\n",
       " loc(21,5): None,\n",
       " loc(21,1): None,\n",
       " loc(21,2): None,\n",
       " loc(20,28): None,\n",
       " loc(21,4): None,\n",
       " loc(21,0): None,\n",
       " loc(21,6): None,\n",
       " loc(20,29): None,\n",
       " loc(12,4): None,\n",
       " loc(18,5): None,\n",
       " loc(18,7): None,\n",
       " loc(18,4): None,\n",
       " loc(18,6): None,\n",
       " loc(18,3): None,\n",
       " loc(18,1): None,\n",
       " loc(17,28): None,\n",
       " loc(18,0): None,\n",
       " loc(18,2): None,\n",
       " loc(17,29): None,\n",
       " loc(11,4): 0.9490196078431372,\n",
       " loc(17,9): 0.7372549019607842,\n",
       " loc(12,5): 0.9490196078431372,\n",
       " loc(23,5): 1.0,\n",
       " loc(18,8): 0.6607843137254902,\n",
       " loc(12,6): 0.9411764705882353,\n",
       " loc(18,26): 0.7999999999999999,\n",
       " loc(22,7): 0.9274509803921569,\n",
       " loc(14,9): 0.9352941176470588,\n",
       " loc(15,10): 0.8588235294117648,\n",
       " loc(16,9): 0.7901960784313725,\n",
       " loc(19,7): 0.8725490196078431,\n",
       " loc(19,27): 0.9215686274509803,\n",
       " loc(23,6): 0.9647058823529411,\n",
       " loc(20,27): 0.9019607843137255,\n",
       " loc(21,7): 1.111764705882353,\n",
       " loc(20,8): 0.780392156862745,\n",
       " loc(12,8): 1.0196078431372548,\n",
       " loc(17,27): 0.9058823529411765,\n",
       " loc(22,4): 1.16078431372549,\n",
       " loc(21,27): 0.907843137254902,\n",
       " loc(12,7): 0.9490196078431372,\n",
       " loc(13,9): 0.9980392156862745,\n",
       " loc(22,28): None,\n",
       " loc(22,29): None,\n",
       " loc(18,27): None,\n",
       " loc(18,28): None,\n",
       " loc(19,0): None,\n",
       " loc(18,29): None,\n",
       " loc(19,1): None,\n",
       " loc(22,1): None,\n",
       " loc(22,3): None,\n",
       " loc(22,6): None,\n",
       " loc(22,5): None,\n",
       " loc(21,28): None,\n",
       " loc(22,2): None,\n",
       " loc(21,29): None,\n",
       " loc(22,0): None,\n",
       " loc(20,0): None,\n",
       " loc(20,4): None,\n",
       " loc(20,7): None,\n",
       " loc(20,5): None,\n",
       " loc(20,6): None,\n",
       " loc(20,1): None,\n",
       " loc(20,3): None,\n",
       " loc(20,2): None,\n",
       " loc(23,28): None,\n",
       " loc(23,29): None,\n",
       " loc(23,1): 0.7274509803921568,\n",
       " loc(23,3): 0.8372549019607842,\n",
       " loc(23,2): 0.6901960784313725,\n",
       " loc(12,3): 0.9137254901960784,\n",
       " loc(12,2): 0.8235294117647058,\n",
       " loc(13,1): 0.7392156862745098,\n",
       " loc(22,27): 0.8803921568627451,\n",
       " loc(23,27): 0.803921568627451}"
      ]
     },
     "execution_count": 88,
     "metadata": {},
     "output_type": "execute_result"
    }
   ],
   "source": [
    "potentials"
   ]
  },
  {
   "cell_type": "code",
   "execution_count": 101,
   "metadata": {
    "collapsed": true
   },
   "outputs": [],
   "source": [
    "def map_potential(inner,frontier,decay):\n",
    "    inner_set = set(inner)\n",
    "    frontier_set = set(frontier)\n",
    "    total_set = inner_set.union(frontier_set)\n",
    "    visited = set()\n",
    "    sorted_nodes = [(f,locsites[(f,0)].attractiveness) for f in frontier]\n",
    "    sorted_nodes.sort(key=lambda x:x[1])\n",
    "    potentials = {loc:None for loc in inner}\n",
    "    for loc in frontier:\n",
    "        potentials[loc] = locsites[(loc,0)].potential_attr\n",
    "    while len(sorted_nodes)>0:\n",
    "        current,value = sorted_nodes.pop()\n",
    "        for d in CARDINALS:\n",
    "            new_loc = locsmap_d[(current,d)]\n",
    "            if not new_loc in inner_set or new_loc in visited:\n",
    "                continue\n",
    "            potentials[new_loc] = potentials[current] - decay\n",
    "            sorted_nodes.append((new_loc,potentials[new_loc]))\n",
    "            sorted_nodes.sort(key=lambda x:x[1])\n",
    "            visited.add(current)\n",
    "    for loc in inner:\n",
    "        locsites[(loc,0)].potential_attr = potentials[loc]\n",
    "    for loc in inner:\n",
    "        locsites[(loc,0)].direction = max([d for d in CARDINALS], key= lambda x:locsites[(loc,x)].potential_attr)\n",
    "        "
   ]
  },
  {
   "cell_type": "code",
   "execution_count": 64,
   "metadata": {
    "collapsed": true
   },
   "outputs": [],
   "source": [
    "l = [1,2,3]"
   ]
  },
  {
   "cell_type": "code",
   "execution_count": 76,
   "metadata": {
    "collapsed": true
   },
   "outputs": [],
   "source": [
    "for x,y,loc in locslist:\n",
    "    if loc in frontier or loc in inner:\n",
    "        continue\n",
    "    locsites[(loc,0)].potential_attr = 0"
   ]
  },
  {
   "cell_type": "code",
   "execution_count": 118,
   "metadata": {
    "collapsed": false,
    "scrolled": true
   },
   "outputs": [],
   "source": [
    "map_potential(inner,frontier,decay=.1)"
   ]
  },
  {
   "cell_type": "code",
   "execution_count": null,
   "metadata": {
    "collapsed": true
   },
   "outputs": [],
   "source": []
  },
  {
   "cell_type": "code",
   "execution_count": 119,
   "metadata": {
    "collapsed": false
   },
   "outputs": [
    {
     "data": {
      "image/png": "[encoded data removed]",
      "text/plain": [
       "<matplotlib.figure.Figure at 0x7f30cc1e4450>"
      ]
     },
     "metadata": {},
     "output_type": "display_data"
    }
   ],
   "source": [
    "state = {\n",
    "    'arrows':'direction',\n",
    "    'heat':'potential_attr'\n",
    "}\n",
    "\n",
    "plt.figure(figsize=(10,10))\n",
    "_ = plot_ims(gameMap,state)"
   ]
  },
  {
   "cell_type": "code",
   "execution_count": null,
   "metadata": {
    "collapsed": true
   },
   "outputs": [],
   "source": []
  },
  {
   "cell_type": "code",
   "execution_count": null,
   "metadata": {
    "collapsed": true
   },
   "outputs": [],
   "source": []
  }
 ],
 "metadata": {
  "kernelspec": {
   "display_name": "Python 2",
   "language": "python",
   "name": "python2"
  },
  "language_info": {
   "codemirror_mode": {
    "name": "ipython",
    "version": 2
   },
   "file_extension": ".py",
   "mimetype": "text/x-python",
   "name": "python",
   "nbconvert_exporter": "python",
   "pygments_lexer": "ipython2",
   "version": "2.7.6"
  }
 },
 "nbformat": 4,
 "nbformat_minor": 0
}
