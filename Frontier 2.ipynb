{
 "cells": [
  {
   "cell_type": "code",
   "execution_count": 1,
   "metadata": {
    "collapsed": true
   },
   "outputs": [],
   "source": [
    "from visualiser import plot_ims\n",
    "import cPickle as pickle\n",
    "import matplotlib.pyplot as plt\n",
    "%matplotlib inline\n",
    "import utils\n",
    "from hlt import *\n",
    "import math"
   ]
  },
  {
   "cell_type": "code",
   "execution_count": 41,
   "metadata": {
    "collapsed": false
   },
   "outputs": [],
   "source": [
    "with open('dumps/gameMap_smartfrontier_120','rb') as f:\n",
    "    myID,gameMap = pickle.load(f)"
   ]
  },
  {
   "cell_type": "code",
   "execution_count": 18,
   "metadata": {
    "collapsed": true
   },
   "outputs": [],
   "source": [
    "def attractiveness(site):\n",
    "    return (255.-site.strength)/255 + site.production/30.\n",
    "\n",
    "def map_attractiveness(myID,gameMap):\n",
    "    for y in range(gameMap.height):\n",
    "        for x in range(gameMap.width):\n",
    "            loc = Location(x,y)\n",
    "            site = gameMap.getSite(loc)\n",
    "            if site.owner == myID:\n",
    "                site.attractiveness = -999\n",
    "            else:\n",
    "                site.attractiveness = attractiveness(site)\n",
    "            site.potential_attr = site.attractiveness\n",
    "\n",
    "def map_potential_attr(frontier,myID,gameMap,visited_set=None,decay=0.1):\n",
    "    if not frontier:\n",
    "        return\n",
    "    if visited_set is None:\n",
    "        visited_set = frontier\n",
    "    new_frontier = set()\n",
    "    for loc in frontier:\n",
    "        site = gameMap.getSite(loc)\n",
    "        for d in CARDINALS:\n",
    "            new_loc = gameMap.getLocation(loc,d)\n",
    "            new_site = gameMap.getSite(new_loc)\n",
    "            if new_site.owner != myID or new_loc in visited_set:\n",
    "                continue\n",
    "            new_site.potential_attr = max(site.potential_attr-decay,new_site.potential_attr)\n",
    "            new_frontier.add(new_loc)\n",
    "    visited_set.update(new_frontier)\n",
    "    map_potential_attr(new_frontier,myID,gameMap,visited_set=visited_set,decay=decay)\n",
    "\n",
    "def attr_direction(loc,d,gameMap,momentumMap,momentumTerm=0.5):\n",
    "    potential = gameMap.getSite(loc,d).potential_attr\n",
    "    inv_d = utils.invert_direction(d)\n",
    "    if d == momentumMap[loc]:\n",
    "        momentum = momentumTerm\n",
    "    elif inv_d == momentumMap[loc]:\n",
    "        momentum = -momentumTerm\n",
    "    else:\n",
    "        momentum = 0.\n",
    "    return potential + momentum\n",
    "\n",
    "def map_directions(myID,gameMap,momentumMap,momentumTerm=0.5):\n",
    "    for y in range(gameMap.height):\n",
    "        for x in range(gameMap.width):\n",
    "            loc = Location(x,y)\n",
    "            site = gameMap.getSite(loc)\n",
    "            if site.owner!=myID:\n",
    "                site.direction=None\n",
    "                site.potential_direction=None\n",
    "                continue\n",
    "            site.potential_direction = max(CARDINALS,key=lambda d:attr_direction(loc,d,gameMap,momentumMap,momentumTerm=0.))\n",
    "            site.direction = max(CARDINALS,key=lambda d:attr_direction(loc,d,gameMap,momentumMap,momentumTerm=momentumTerm))\n",
    "\n",
    "def adjust_frontier_potential(frontier,myID,gameMap,turn,enemy_attr=1.):\n",
    "    for loc in frontier:\n",
    "        site = gameMap.getSite(loc)\n",
    "        for d in CARDINALS:\n",
    "            newsite = gameMap.getSite(loc,d)\n",
    "            if newsite.owner not in (0,myID):\n",
    "                site.potential_attr += enemy_attr\n",
    "                \n",
    "def get_inner_frontier(frontier,myID,gameMap):\n",
    "    inner_frontier = set()\n",
    "    for loc in frontier:\n",
    "        site = gameMap.getSite(loc)\n",
    "        for d in CARDINALS:\n",
    "            new_loc = gameMap.getLocation(loc,d)\n",
    "            new_site = gameMap.getSite(new_loc)\n",
    "            if new_site.owner != myID or new_loc in frontier:\n",
    "                continue\n",
    "            inner_frontier.add(new_loc)\n",
    "            new_site.is_inner_frontier = True\n",
    "    return inner_frontier\n",
    "\n",
    "def smooth_inner_frontier(frontier,myID,gameMap):\n",
    "    for loc in frontier:\n",
    "        neighbors_potential_attr = [gameMap.getSite(loc,d).potential_attr for d in HALFCARDINALS if gameMap.getLocation(loc,d) in frontier]\n",
    "        site = gameMap.getSite(loc)\n",
    "        all_potentials = [site.potential_attr]+neighbors_potential_attr\n",
    "        site.potential_attr_temp =  sum(all_potentials)/len(all_potentials)\n",
    "    for loc in frontier:\n",
    "        site = gameMap.getSite(loc)\n",
    "        site.potential_attr =  site.potential_attr_temp"
   ]
  },
  {
   "cell_type": "code",
   "execution_count": 7,
   "metadata": {
    "collapsed": false,
    "scrolled": true
   },
   "outputs": [
    {
     "ename": "TypeError",
     "evalue": "map_directions() takes at least 3 arguments (2 given)",
     "output_type": "error",
     "traceback": [
      "\u001b[1;31m---------------------------------------------------------------------------\u001b[0m",
      "\u001b[1;31mTypeError\u001b[0m                                 Traceback (most recent call last)",
      "\u001b[1;32m<ipython-input-7-86baffebeac1>\u001b[0m in \u001b[0;36m<module>\u001b[1;34m()\u001b[0m\n\u001b[0;32m      3\u001b[0m \u001b[0mfrontier\u001b[0m \u001b[1;33m=\u001b[0m \u001b[0mutils\u001b[0m\u001b[1;33m.\u001b[0m\u001b[0mfind_frontier\u001b[0m\u001b[1;33m(\u001b[0m\u001b[0mmyID\u001b[0m\u001b[1;33m,\u001b[0m\u001b[0mgameMap\u001b[0m\u001b[1;33m)\u001b[0m\u001b[1;33m\u001b[0m\u001b[0m\n\u001b[0;32m      4\u001b[0m \u001b[0mmap_potential_attr\u001b[0m\u001b[1;33m(\u001b[0m\u001b[0mset\u001b[0m\u001b[1;33m(\u001b[0m\u001b[0mfrontier\u001b[0m\u001b[1;33m)\u001b[0m\u001b[1;33m,\u001b[0m\u001b[0mmyID\u001b[0m\u001b[1;33m,\u001b[0m\u001b[0mgameMap\u001b[0m\u001b[1;33m,\u001b[0m\u001b[0mdecay\u001b[0m\u001b[1;33m=\u001b[0m\u001b[0mdecay\u001b[0m\u001b[1;33m)\u001b[0m\u001b[1;33m\u001b[0m\u001b[0m\n\u001b[1;32m----> 5\u001b[1;33m \u001b[0mmap_directions\u001b[0m\u001b[1;33m(\u001b[0m\u001b[0mmyID\u001b[0m\u001b[1;33m,\u001b[0m\u001b[0mgameMap\u001b[0m\u001b[1;33m)\u001b[0m\u001b[1;33m\u001b[0m\u001b[0m\n\u001b[0m",
      "\u001b[1;31mTypeError\u001b[0m: map_directions() takes at least 3 arguments (2 given)"
     ]
    }
   ],
   "source": [
    "decay = 0.1\n",
    "map_attractiveness(myID,gameMap)\n",
    "frontier = utils.find_frontier(myID,gameMap)\n",
    "map_potential_attr(set(frontier),myID,gameMap,decay=decay)\n",
    "map_directions(myID,gameMap)"
   ]
  },
  {
   "cell_type": "code",
   "execution_count": 42,
   "metadata": {
    "collapsed": false
   },
   "outputs": [],
   "source": [
    "momentumMap = {Location(x,y):0 for x in range(gameMap.width) for y in range(gameMap.height)}"
   ]
  },
  {
   "cell_type": "code",
   "execution_count": 23,
   "metadata": {
    "collapsed": false
   },
   "outputs": [
    {
     "data": {
      "text/plain": [
       "1.0921568627450982"
      ]
     },
     "execution_count": 23,
     "metadata": {},
     "output_type": "execute_result"
    }
   ],
   "source": [
    "gameMap.getSite(Location(0,1)).potential_attr"
   ]
  },
  {
   "cell_type": "code",
   "execution_count": 22,
   "metadata": {
    "collapsed": false
   },
   "outputs": [
    {
     "data": {
      "text/plain": [
       "site(owner=2,strength=19,prod=5)"
      ]
     },
     "execution_count": 22,
     "metadata": {},
     "output_type": "execute_result"
    }
   ],
   "source": [
    "gameMap.getSite(Location(0,1))"
   ]
  },
  {
   "cell_type": "code",
   "execution_count": 17,
   "metadata": {
    "collapsed": false
   },
   "outputs": [
    {
     "data": {
      "text/plain": [
       "0.6862745098039216"
      ]
     },
     "execution_count": 17,
     "metadata": {},
     "output_type": "execute_result"
    }
   ],
   "source": [
    "(255-80)/255."
   ]
  },
  {
   "cell_type": "code",
   "execution_count": 39,
   "metadata": {
    "collapsed": false
   },
   "outputs": [
    {
     "data": {
      "text/plain": [
       "-999"
      ]
     },
     "execution_count": 39,
     "metadata": {},
     "output_type": "execute_result"
    }
   ],
   "source": [
    "loc = list(inner_frontier)[10]\n",
    "site = gameMap.getSite(loc)\n",
    "site.potential_attr_temp"
   ]
  },
  {
   "cell_type": "code",
   "execution_count": 47,
   "metadata": {
    "collapsed": false
   },
   "outputs": [
    {
     "data": {
      "image/png": "[encoded data removed]",
      "text/plain": [
       "<matplotlib.figure.Figure at 0x7fa1b6301410>"
      ]
     },
     "metadata": {},
     "output_type": "display_data"
    }
   ],
   "source": [
    "decay = 0.3\n",
    "momentumTerm = 0.\n",
    "\n",
    "#frontier = set(utils.frontier_tracking(frontier,myID,gameMap))\n",
    "frontier = set(utils.find_frontier(myID,gameMap))\n",
    "\n",
    "inner_frontier = get_inner_frontier(frontier,myID,gameMap)\n",
    "\n",
    "map_attractiveness(myID,gameMap)\n",
    "\n",
    "#adjust_frontier_potential(frontier,myID,gameMap,turn,enemy_attr=enemy_attr)\n",
    "\n",
    "#smooth_inner_frontier(inner_frontier,myID,gameMap)\n",
    "#smooth_inner_frontier(inner_frontier,myID,gameMap)\n",
    "#smooth_inner_frontier(inner_frontier,myID,gameMap)\n",
    "#smooth_inner_frontier(inner_frontier,myID,gameMap)\n",
    "\n",
    "map_potential_attr(frontier,myID,gameMap,decay=decay)\n",
    "\n",
    "#smooth_inner_frontier(inner_frontier,myID,gameMap)\n",
    "\n",
    "#map_potential_attr(frontier,myID,gameMap,decay=decay)\n",
    "\n",
    "map_directions(myID,gameMap,momentumMap,momentumTerm=momentumTerm)\n",
    "\n",
    "state = {\n",
    "    'size':'is_frontier',\n",
    "    'arrows':'direction',\n",
    "    'heat':'potential_attr'\n",
    "}\n",
    "\n",
    "plt.figure(figsize=(10,10))\n",
    "_ = plot_ims(gameMap,state)"
   ]
  },
  {
   "cell_type": "code",
   "execution_count": 60,
   "metadata": {
    "collapsed": false
   },
   "outputs": [],
   "source": [
    "locsmap = {(x,y):Location(x,y) for x in range(gameMap.width) for y in range(gameMap.height)}"
   ]
  },
  {
   "cell_type": "code",
   "execution_count": 65,
   "metadata": {
    "collapsed": true
   },
   "outputs": [],
   "source": [
    "locsites = {loc:gameMap.getSite(loc) for loc in locsmap.values()}"
   ]
  },
  {
   "cell_type": "code",
   "execution_count": 72,
   "metadata": {
    "collapsed": true
   },
   "outputs": [],
   "source": [
    "locsites_d = {(loc,d):gameMap.getSite(loc,d) for loc in locsmap.values() for d in CARDINALS}"
   ]
  },
  {
   "cell_type": "code",
   "execution_count": 77,
   "metadata": {
    "collapsed": false
   },
   "outputs": [
    {
     "name": "stdout",
     "output_type": "stream",
     "text": [
      "10 loops, best of 3: 33.4 ms per loop\n"
     ]
    }
   ],
   "source": [
    "%timeit {(loc,d):gameMap.getSite(loc,d) for loc in locsmap.values() for d in CARDINALS}"
   ]
  },
  {
   "cell_type": "code",
   "execution_count": 80,
   "metadata": {
    "collapsed": false
   },
   "outputs": [
    {
     "name": "stdout",
     "output_type": "stream",
     "text": [
      "The slowest run took 7.06 times longer than the fastest. This could mean that an intermediate result is being cached.\n",
      "100000 loops, best of 3: 8.48 µs per loop\n"
     ]
    }
   ],
   "source": [
    "%timeit gameMap.getSite(loc)"
   ]
  },
  {
   "cell_type": "code",
   "execution_count": null,
   "metadata": {
    "collapsed": true
   },
   "outputs": [],
   "source": []
  },
  {
   "cell_type": "code",
   "execution_count": 75,
   "metadata": {
    "collapsed": true
   },
   "outputs": [],
   "source": [
    "def attr_direction(loc,d,gameMap,momentumMap,momentumTerm=0.5):\n",
    "    potential = locsites_d[(loc,d)].potential_attr\n",
    "    inv_d = utils.invert_direction(d)\n",
    "    # if d == momentumMap[loc]:\n",
    "    #     momentum = momentumTerm\n",
    "    if inv_d == momentumMap[loc]:\n",
    "        momentum = -momentumTerm\n",
    "    else:\n",
    "        momentum = 0.\n",
    "    return potential + momentum\n",
    "\n",
    "def map_directions(myID,gameMap,momentumMap,momentumTerm=0.5):\n",
    "    for y in range(gameMap.height):\n",
    "        for x in range(gameMap.width):\n",
    "            loc = locsmap[(x,y)]\n",
    "            #loc = Location(x,y)\n",
    "            #site = gameMap.getSite(loc)\n",
    "            site = locsites[loc]\n",
    "            if site.owner!=myID:\n",
    "                site.direction=None\n",
    "                #site.potential_direction=None\n",
    "                continue\n",
    "            # site.potential_direction = max(CARDINALS,key=lambda d:attr_direction(loc,d,gameMap,momentumMap,momentumTerm=0.))\n",
    "            #momentum_d = momentumMap[loc]\n",
    "            \n",
    "            site.direction = max(CARDINALS,key=lambda d:attr_direction(loc,d,gameMap,momentumMap,momentumTerm=momentumTerm))"
   ]
  },
  {
   "cell_type": "code",
   "execution_count": 50,
   "metadata": {
    "collapsed": false
   },
   "outputs": [
    {
     "name": "stdout",
     "output_type": "stream",
     "text": [
      "10 loops, best of 3: 20.2 ms per loop\n"
     ]
    }
   ],
   "source": [
    "%timeit map_directions(myID,gameMap,momentumMap)"
   ]
  },
  {
   "cell_type": "code",
   "execution_count": 52,
   "metadata": {
    "collapsed": false
   },
   "outputs": [
    {
     "name": "stdout",
     "output_type": "stream",
     "text": [
      "100 loops, best of 3: 8.14 ms per loop\n"
     ]
    }
   ],
   "source": [
    "%timeit map_directions(myID,gameMap,momentumMap)"
   ]
  },
  {
   "cell_type": "code",
   "execution_count": 54,
   "metadata": {
    "collapsed": false
   },
   "outputs": [
    {
     "name": "stdout",
     "output_type": "stream",
     "text": [
      "100 loops, best of 3: 8.22 ms per loop\n"
     ]
    }
   ],
   "source": [
    "%timeit map_directions(myID,gameMap,momentumMap)"
   ]
  },
  {
   "cell_type": "code",
   "execution_count": 56,
   "metadata": {
    "collapsed": false
   },
   "outputs": [
    {
     "name": "stdout",
     "output_type": "stream",
     "text": [
      "The slowest run took 52.77 times longer than the fastest. This could mean that an intermediate result is being cached.\n",
      "10000 loops, best of 3: 17.8 µs per loop\n"
     ]
    }
   ],
   "source": [
    "%timeit map_directions(myID,gameMap,momentumMap)"
   ]
  },
  {
   "cell_type": "code",
   "execution_count": 58,
   "metadata": {
    "collapsed": false
   },
   "outputs": [
    {
     "name": "stdout",
     "output_type": "stream",
     "text": [
      "1000 loops, best of 3: 274 µs per loop\n"
     ]
    }
   ],
   "source": [
    "%timeit map_directions(myID,gameMap,momentumMap)"
   ]
  },
  {
   "cell_type": "code",
   "execution_count": 62,
   "metadata": {
    "collapsed": false
   },
   "outputs": [
    {
     "name": "stdout",
     "output_type": "stream",
     "text": [
      "The slowest run took 8.07 times longer than the fastest. This could mean that an intermediate result is being cached.\n",
      "10000 loops, best of 3: 87.2 µs per loop\n"
     ]
    }
   ],
   "source": [
    "%timeit map_directions(myID,gameMap,momentumMap)"
   ]
  },
  {
   "cell_type": "code",
   "execution_count": 64,
   "metadata": {
    "collapsed": false
   },
   "outputs": [
    {
     "name": "stdout",
     "output_type": "stream",
     "text": [
      "100 loops, best of 3: 7.89 ms per loop\n"
     ]
    }
   ],
   "source": [
    "%timeit map_directions(myID,gameMap,momentumMap)"
   ]
  },
  {
   "cell_type": "code",
   "execution_count": 67,
   "metadata": {
    "collapsed": false
   },
   "outputs": [
    {
     "name": "stdout",
     "output_type": "stream",
     "text": [
      "The slowest run took 6.02 times longer than the fastest. This could mean that an intermediate result is being cached.\n",
      "1000 loops, best of 3: 377 µs per loop\n"
     ]
    }
   ],
   "source": [
    "%timeit map_directions(myID,gameMap,momentumMap)"
   ]
  },
  {
   "cell_type": "code",
   "execution_count": 69,
   "metadata": {
    "collapsed": false
   },
   "outputs": [
    {
     "name": "stdout",
     "output_type": "stream",
     "text": [
      "The slowest run took 5.97 times longer than the fastest. This could mean that an intermediate result is being cached.\n",
      "1000 loops, best of 3: 458 µs per loop\n"
     ]
    }
   ],
   "source": [
    "%timeit map_directions(myID,gameMap,momentumMap)"
   ]
  },
  {
   "cell_type": "code",
   "execution_count": 71,
   "metadata": {
    "collapsed": false
   },
   "outputs": [
    {
     "name": "stdout",
     "output_type": "stream",
     "text": [
      "100 loops, best of 3: 12.3 ms per loop\n"
     ]
    }
   ],
   "source": [
    "%timeit map_directions(myID,gameMap,momentumMap)"
   ]
  },
  {
   "cell_type": "code",
   "execution_count": 76,
   "metadata": {
    "collapsed": false
   },
   "outputs": [
    {
     "name": "stdout",
     "output_type": "stream",
     "text": [
      "100 loops, best of 3: 2.2 ms per loop\n"
     ]
    }
   ],
   "source": [
    "%timeit map_directions(myID,gameMap,momentumMap)"
   ]
  },
  {
   "cell_type": "code",
   "execution_count": null,
   "metadata": {
    "collapsed": true
   },
   "outputs": [],
   "source": []
  }
 ],
 "metadata": {
  "kernelspec": {
   "display_name": "Python 2",
   "language": "python",
   "name": "python2"
  },
  "language_info": {
   "codemirror_mode": {
    "name": "ipython",
    "version": 2
   },
   "file_extension": ".py",
   "mimetype": "text/x-python",
   "name": "python",
   "nbconvert_exporter": "python",
   "pygments_lexer": "ipython2",
   "version": "2.7.6"
  }
 },
 "nbformat": 4,
 "nbformat_minor": 0
}
