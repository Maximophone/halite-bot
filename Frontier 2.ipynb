{
 "cells": [
  {
   "cell_type": "code",
   "execution_count": 37,
   "metadata": {
    "collapsed": false
   },
   "outputs": [],
   "source": [
    "from visualiser import plot_ims\n",
    "import cPickle as pickle\n",
    "import matplotlib.pyplot as plt\n",
    "%matplotlib inline\n",
    "import utils\n",
    "from hlt import *\n",
    "import math\n",
    "import random\n",
    "import numpy as np"
   ]
  },
  {
   "cell_type": "code",
   "execution_count": 2,
   "metadata": {
    "collapsed": false
   },
   "outputs": [],
   "source": [
    "with open('dumps/gameMap_smartfrontier_120','rb') as f:\n",
    "    myID,gameMap = pickle.load(f)"
   ]
  },
  {
   "cell_type": "code",
   "execution_count": 3,
   "metadata": {
    "collapsed": true
   },
   "outputs": [],
   "source": [
    "def attractiveness(site):\n",
    "    return (255.-site.strength)/255 + site.production/30.\n",
    "\n",
    "def map_attractiveness(myID,gameMap):\n",
    "    for y in range(gameMap.height):\n",
    "        for x in range(gameMap.width):\n",
    "            loc = Location(x,y)\n",
    "            site = gameMap.getSite(loc)\n",
    "            if site.owner == myID:\n",
    "                site.attractiveness = -999\n",
    "            else:\n",
    "                site.attractiveness = attractiveness(site)\n",
    "            site.potential_attr = site.attractiveness\n",
    "\n",
    "def map_potential_attr(frontier,myID,gameMap,visited_set=None,decay=0.1):\n",
    "    if not frontier:\n",
    "        return\n",
    "    if visited_set is None:\n",
    "        visited_set = frontier\n",
    "    new_frontier = set()\n",
    "    for loc in frontier:\n",
    "        site = gameMap.getSite(loc)\n",
    "        for d in CARDINALS:\n",
    "            new_loc = gameMap.getLocation(loc,d)\n",
    "            new_site = gameMap.getSite(new_loc)\n",
    "            if new_site.owner != myID or new_loc in visited_set:\n",
    "                continue\n",
    "            new_site.potential_attr = max(site.potential_attr-decay,new_site.potential_attr)\n",
    "            new_frontier.add(new_loc)\n",
    "    visited_set.update(new_frontier)\n",
    "    map_potential_attr(new_frontier,myID,gameMap,visited_set=visited_set,decay=decay)\n",
    "\n",
    "def attr_direction(loc,d,gameMap,momentumMap,momentumTerm=0.5):\n",
    "    potential = gameMap.getSite(loc,d).potential_attr\n",
    "    inv_d = utils.invert_direction(d)\n",
    "    if d == momentumMap[loc]:\n",
    "        momentum = momentumTerm\n",
    "    elif inv_d == momentumMap[loc]:\n",
    "        momentum = -momentumTerm\n",
    "    else:\n",
    "        momentum = 0.\n",
    "    return potential + momentum\n",
    "\n",
    "def map_directions(myID,gameMap,momentumMap,momentumTerm=0.5):\n",
    "    for y in range(gameMap.height):\n",
    "        for x in range(gameMap.width):\n",
    "            loc = Location(x,y)\n",
    "            site = gameMap.getSite(loc)\n",
    "            if site.owner!=myID:\n",
    "                site.direction=None\n",
    "                site.potential_direction=None\n",
    "                continue\n",
    "            site.potential_direction = max(CARDINALS,key=lambda d:attr_direction(loc,d,gameMap,momentumMap,momentumTerm=0.))\n",
    "            site.direction = max(CARDINALS,key=lambda d:attr_direction(loc,d,gameMap,momentumMap,momentumTerm=momentumTerm))\n",
    "\n",
    "def adjust_frontier_potential(frontier,myID,gameMap,turn,enemy_attr=1.):\n",
    "    for loc in frontier:\n",
    "        site = gameMap.getSite(loc)\n",
    "        for d in CARDINALS:\n",
    "            newsite = gameMap.getSite(loc,d)\n",
    "            if newsite.owner not in (0,myID):\n",
    "                site.potential_attr += enemy_attr\n",
    "                \n",
    "def get_inner_frontier(frontier,myID,gameMap):\n",
    "    inner_frontier = set()\n",
    "    for loc in frontier:\n",
    "        site = gameMap.getSite(loc)\n",
    "        for d in CARDINALS:\n",
    "            new_loc = gameMap.getLocation(loc,d)\n",
    "            new_site = gameMap.getSite(new_loc)\n",
    "            if new_site.owner != myID or new_loc in frontier:\n",
    "                continue\n",
    "            inner_frontier.add(new_loc)\n",
    "            new_site.is_inner_frontier = True\n",
    "    return inner_frontier\n",
    "\n",
    "def smooth_inner_frontier(frontier,myID,gameMap):\n",
    "    for loc in frontier:\n",
    "        neighbors_potential_attr = [gameMap.getSite(loc,d).potential_attr for d in HALFCARDINALS if gameMap.getLocation(loc,d) in frontier]\n",
    "        site = gameMap.getSite(loc)\n",
    "        all_potentials = [site.potential_attr]+neighbors_potential_attr\n",
    "        site.potential_attr_temp =  sum(all_potentials)/len(all_potentials)\n",
    "    for loc in frontier:\n",
    "        site = gameMap.getSite(loc)\n",
    "        site.potential_attr =  site.potential_attr_temp"
   ]
  },
  {
   "cell_type": "code",
   "execution_count": null,
   "metadata": {
    "collapsed": true
   },
   "outputs": [],
   "source": []
  },
  {
   "cell_type": "code",
   "execution_count": null,
   "metadata": {
    "collapsed": true
   },
   "outputs": [],
   "source": []
  },
  {
   "cell_type": "code",
   "execution_count": 7,
   "metadata": {
    "collapsed": false,
    "scrolled": true
   },
   "outputs": [
    {
     "ename": "TypeError",
     "evalue": "map_directions() takes at least 3 arguments (2 given)",
     "output_type": "error",
     "traceback": [
      "\u001b[1;31m---------------------------------------------------------------------------\u001b[0m",
      "\u001b[1;31mTypeError\u001b[0m                                 Traceback (most recent call last)",
      "\u001b[1;32m<ipython-input-7-86baffebeac1>\u001b[0m in \u001b[0;36m<module>\u001b[1;34m()\u001b[0m\n\u001b[0;32m      3\u001b[0m \u001b[0mfrontier\u001b[0m \u001b[1;33m=\u001b[0m \u001b[0mutils\u001b[0m\u001b[1;33m.\u001b[0m\u001b[0mfind_frontier\u001b[0m\u001b[1;33m(\u001b[0m\u001b[0mmyID\u001b[0m\u001b[1;33m,\u001b[0m\u001b[0mgameMap\u001b[0m\u001b[1;33m)\u001b[0m\u001b[1;33m\u001b[0m\u001b[0m\n\u001b[0;32m      4\u001b[0m \u001b[0mmap_potential_attr\u001b[0m\u001b[1;33m(\u001b[0m\u001b[0mset\u001b[0m\u001b[1;33m(\u001b[0m\u001b[0mfrontier\u001b[0m\u001b[1;33m)\u001b[0m\u001b[1;33m,\u001b[0m\u001b[0mmyID\u001b[0m\u001b[1;33m,\u001b[0m\u001b[0mgameMap\u001b[0m\u001b[1;33m,\u001b[0m\u001b[0mdecay\u001b[0m\u001b[1;33m=\u001b[0m\u001b[0mdecay\u001b[0m\u001b[1;33m)\u001b[0m\u001b[1;33m\u001b[0m\u001b[0m\n\u001b[1;32m----> 5\u001b[1;33m \u001b[0mmap_directions\u001b[0m\u001b[1;33m(\u001b[0m\u001b[0mmyID\u001b[0m\u001b[1;33m,\u001b[0m\u001b[0mgameMap\u001b[0m\u001b[1;33m)\u001b[0m\u001b[1;33m\u001b[0m\u001b[0m\n\u001b[0m",
      "\u001b[1;31mTypeError\u001b[0m: map_directions() takes at least 3 arguments (2 given)"
     ]
    }
   ],
   "source": [
    "decay = 0.1\n",
    "map_attractiveness(myID,gameMap)\n",
    "frontier = utils.find_frontier(myID,gameMap)\n",
    "map_potential_attr(set(frontier),myID,gameMap,decay=decay)\n",
    "map_directions(myID,gameMap)"
   ]
  },
  {
   "cell_type": "code",
   "execution_count": 5,
   "metadata": {
    "collapsed": false
   },
   "outputs": [],
   "source": [
    "momentumMap = {Location(x,y):0 for x in range(gameMap.width) for y in range(gameMap.height)}"
   ]
  },
  {
   "cell_type": "code",
   "execution_count": 82,
   "metadata": {
    "collapsed": true
   },
   "outputs": [],
   "source": [
    "frontier = set(utils.find_frontier(myID,gameMap))"
   ]
  },
  {
   "cell_type": "code",
   "execution_count": 17,
   "metadata": {
    "collapsed": false
   },
   "outputs": [
    {
     "data": {
      "text/plain": [
       "39"
      ]
     },
     "execution_count": 17,
     "metadata": {},
     "output_type": "execute_result"
    }
   ],
   "source": [
    "len(frontier)"
   ]
  },
  {
   "cell_type": "code",
   "execution_count": 41,
   "metadata": {
    "collapsed": false
   },
   "outputs": [
    {
     "ename": "ValueError",
     "evalue": "probabilities do not sum to 1",
     "output_type": "error",
     "traceback": [
      "\u001b[0;31m---------------------------------------------------------------------------\u001b[0m",
      "\u001b[0;31mValueError\u001b[0m                                Traceback (most recent call last)",
      "\u001b[0;32m<ipython-input-41-7b223c815073>\u001b[0m in \u001b[0;36m<module>\u001b[0;34m()\u001b[0m\n\u001b[0;32m----> 1\u001b[0;31m \u001b[0mnp\u001b[0m\u001b[0;34m.\u001b[0m\u001b[0mrandom\u001b[0m\u001b[0;34m.\u001b[0m\u001b[0mchoice\u001b[0m\u001b[0;34m(\u001b[0m\u001b[0;34m[\u001b[0m\u001b[0;36m1\u001b[0m\u001b[0;34m,\u001b[0m\u001b[0;36m2\u001b[0m\u001b[0;34m,\u001b[0m\u001b[0;36m3\u001b[0m\u001b[0;34m]\u001b[0m\u001b[0;34m,\u001b[0m\u001b[0mp\u001b[0m\u001b[0;34m=\u001b[0m\u001b[0;34m[\u001b[0m\u001b[0;36m0.5\u001b[0m\u001b[0;34m,\u001b[0m\u001b[0;36m1.6\u001b[0m\u001b[0;34m,\u001b[0m\u001b[0;36m3.\u001b[0m\u001b[0;34m]\u001b[0m\u001b[0;34m)\u001b[0m\u001b[0;34m\u001b[0m\u001b[0m\n\u001b[0m",
      "\u001b[0;32mmtrand.pyx\u001b[0m in \u001b[0;36mmtrand.RandomState.choice (numpy/random/mtrand/mtrand.c:15985)\u001b[0;34m()\u001b[0m\n",
      "\u001b[0;31mValueError\u001b[0m: probabilities do not sum to 1"
     ]
    }
   ],
   "source": [
    "np.random.choice([1,2,3],p=[0.5,1.6,3.])"
   ]
  },
  {
   "cell_type": "code",
   "execution_count": 19,
   "metadata": {
    "collapsed": true
   },
   "outputs": [],
   "source": [
    "locslist = [(x,y,Location(x,y)) for x in range(gameMap.width) for y in range(gameMap.height)]\n",
    "locsmap = {(x,y):Location(x,y) for x in range(gameMap.width) for y in range(gameMap.height)}\n",
    "locsmap_d = {(loc,d):gameMap.getLocation(loc,d) for x,y,loc in locslist for d in DIRECTIONS}\n",
    "locsites = {(loc,d):gameMap.getSite(loc,d) for x,y,loc in locslist for d in DIRECTIONS}"
   ]
  },
  {
   "cell_type": "code",
   "execution_count": 30,
   "metadata": {
    "collapsed": true
   },
   "outputs": [],
   "source": [
    "def map_inner_attr(frontier,inner_locs,iterations = 10, decay = 0.1):\n",
    "    potentials = {loc:-999 for loc in inner_locs}\n",
    "    directions = {loc:0 for loc in inner_locs}\n",
    "    for loc in frontier:\n",
    "        potentials[loc] = locsites[(loc,0)].potential_attr\n",
    "    for _ in range(iterations):\n",
    "        for loc in inner_locs:\n",
    "            potentials[loc],directions[loc] = max([(potentials[locsmap_d[(loc,d)]] - decay,d) for d in CARDINALS])\n",
    "    for loc in inner_locs:\n",
    "        locsites[(loc,0)].potential_attr = potentials[loc]\n",
    "        locsites[(loc,0)].direction = directions[loc]\n",
    "        "
   ]
  },
  {
   "cell_type": "code",
   "execution_count": 140,
   "metadata": {
    "collapsed": false
   },
   "outputs": [],
   "source": [
    "def map_inner_attr_rand(frontier,inner_locs,steps=10,iterations=100):\n",
    "    frontier_list = list(frontier)\n",
    "    n_visits = {loc:0 for loc in inner_locs}\n",
    "    inner_set = set(inner_locs)\n",
    "    possible_directions = {loc:set([d for d in CARDINALS if locsmap_d[(loc,d)] in inner_set]) for loc in frontier_list+inner_locs}\n",
    "    frontier_potentials = [locsites[(loc,0)].potential_attr for loc in frontier_list]\n",
    "    scaling_factor = float(sum(frontier_potentials))\n",
    "    max_potential = max(frontier_potentials)\n",
    "    frontier_potentials = [fp/scaling_factor for fp in frontier_potentials]\n",
    "    \n",
    "    for _ in range(iterations):\n",
    "        current = np.random.choice(frontier_list,p=frontier_potentials)\n",
    "        d = 0\n",
    "        visited = set()\n",
    "        for step in range(steps):\n",
    "            try:\n",
    "                d = np.random.choice(possible_directions[current].difference([inverted_dirs[d]]))\n",
    "            except ValueError:\n",
    "                d = np.random.choice(list(possible_directions[current]))\n",
    "            if locsmap_d[(current,d)] in visited:\n",
    "                continue\n",
    "            current = locsmap_d[(current,d)]\n",
    "            n_visits[current]+=1\n",
    "            visited.add(current)\n",
    "            \n",
    "    total_visits = float(steps*iterations)\n",
    "    for loc in inner_locs:\n",
    "        locsites[(loc,0)].potential_attr = n_visits[loc]/total_visits*scaling_factor\n",
    "    for loc in inner_locs:\n",
    "        locsites[(loc,0)].direction = max([d for d in CARDINALS],key=lambda d_:locsites[(loc,d_)].potential_attr)\n"
   ]
  },
  {
   "cell_type": "code",
   "execution_count": 130,
   "metadata": {
    "collapsed": true
   },
   "outputs": [],
   "source": [
    "inverted_dirs = {1:3,2:4,3:1,4:2,0:0}"
   ]
  },
  {
   "cell_type": "code",
   "execution_count": 123,
   "metadata": {
    "collapsed": true
   },
   "outputs": [],
   "source": [
    "s = set([1,2,3])"
   ]
  },
  {
   "cell_type": "code",
   "execution_count": 121,
   "metadata": {
    "collapsed": false
   },
   "outputs": [],
   "source": [
    "s.discard(3)"
   ]
  },
  {
   "cell_type": "code",
   "execution_count": 122,
   "metadata": {
    "collapsed": false
   },
   "outputs": [
    {
     "data": {
      "text/plain": [
       "{1, 2}"
      ]
     },
     "execution_count": 122,
     "metadata": {},
     "output_type": "execute_result"
    }
   ],
   "source": [
    "s."
   ]
  },
  {
   "cell_type": "code",
   "execution_count": 70,
   "metadata": {
    "collapsed": false
   },
   "outputs": [
    {
     "name": "stdout",
     "output_type": "stream",
     "text": [
      "The slowest run took 6.57 times longer than the fastest. This could mean that an intermediate result is being cached.\n",
      "100000 loops, best of 3: 7.62 µs per loop\n"
     ]
    }
   ],
   "source": [
    "%timeit np.random.choice([1,2,3,4])"
   ]
  },
  {
   "cell_type": "code",
   "execution_count": 71,
   "metadata": {
    "collapsed": true
   },
   "outputs": [],
   "source": [
    "d = {1:0}"
   ]
  },
  {
   "cell_type": "code",
   "execution_count": 76,
   "metadata": {
    "collapsed": false
   },
   "outputs": [
    {
     "name": "stdout",
     "output_type": "stream",
     "text": [
      "The slowest run took 49.65 times longer than the fastest. This could mean that an intermediate result is being cached.\n",
      "1000000 loops, best of 3: 221 ns per loop\n"
     ]
    }
   ],
   "source": [
    "%timeit x = random.random()"
   ]
  },
  {
   "cell_type": "code",
   "execution_count": 99,
   "metadata": {
    "collapsed": false
   },
   "outputs": [
    {
     "name": "stdout",
     "output_type": "stream",
     "text": [
      "1 loop, best of 3: 143 ms per loop\n"
     ]
    }
   ],
   "source": [
    "%timeit map_inner_attr_rand(frontier,inner_locs,steps=10,iterations=500)"
   ]
  },
  {
   "cell_type": "code",
   "execution_count": 35,
   "metadata": {
    "collapsed": false
   },
   "outputs": [
    {
     "name": "stdout",
     "output_type": "stream",
     "text": [
      "10 loops, best of 3: 117 ms per loop\n"
     ]
    }
   ],
   "source": [
    "%timeit map_inner_attr(frontier,inner_locs,iterations = 100, decay = 0.1)"
   ]
  },
  {
   "cell_type": "code",
   "execution_count": null,
   "metadata": {
    "collapsed": true
   },
   "outputs": [],
   "source": [
    "locsites"
   ]
  },
  {
   "cell_type": "code",
   "execution_count": 64,
   "metadata": {
    "collapsed": false
   },
   "outputs": [],
   "source": [
    "min_potential = min([locsites[(loc,0)].potential_attr for loc in frontier])\n",
    "for loc in frontier:\n",
    "    locsites[(loc,0)].potential_attr -= 2* min_potential"
   ]
  },
  {
   "cell_type": "code",
   "execution_count": 115,
   "metadata": {
    "collapsed": false
   },
   "outputs": [
    {
     "data": {
      "text/plain": [
       "[3.219607843137255,\n",
       " 3.011764705882353,\n",
       " 3.1215686274509804,\n",
       " 2.992156862745098,\n",
       " 3.1098039215686275,\n",
       " 3.350980392156863,\n",
       " 3.3588235294117648,\n",
       " 3.4039215686274513,\n",
       " 3.264705882352941,\n",
       " 3.1411764705882357,\n",
       " 3.1843137254901963,\n",
       " 3.088235294117647,\n",
       " 3.066666666666667,\n",
       " 3.1352941176470592,\n",
       " 3.0647058823529414,\n",
       " 2.9901960784313726,\n",
       " 3.096078431372549,\n",
       " 2.7529411764705882,\n",
       " 3.4294117647058826,\n",
       " 3.3784313725490196,\n",
       " 100.0,\n",
       " 3.327450980392157,\n",
       " 3.143137254901961,\n",
       " 3.0784313725490198,\n",
       " 3.376470588235294,\n",
       " 3.1235294117647063,\n",
       " 3.3098039215686277,\n",
       " 3.354901960784314,\n",
       " 3.3333333333333335,\n",
       " 3.2,\n",
       " 2.9529411764705884,\n",
       " 2.9941176470588236,\n",
       " 3.219607843137255,\n",
       " 3.1176470588235294,\n",
       " 3.327450980392157,\n",
       " 2.686274509803922,\n",
       " 3.343137254901961,\n",
       " 3.1882352941176473,\n",
       " 5.0]"
      ]
     },
     "execution_count": 115,
     "metadata": {},
     "output_type": "execute_result"
    }
   ],
   "source": [
    "locsites[(list(frontier)[20],0)].potential_attr = 100.\n",
    "[locsites[(loc,0)].potential_attr for loc in frontier]"
   ]
  },
  {
   "cell_type": "code",
   "execution_count": null,
   "metadata": {
    "collapsed": false
   },
   "outputs": [],
   "source": [
    "for x in range(gameMap.width):\n",
    "    for y in range(gameMap.height):\n",
    "        loc = Location(x,y)\n",
    "        if loc not in frontier:\n",
    "            gameMap.getSite(loc).potential_attr = 0\n",
    "\n",
    "inner_locs = [loc for x,y,loc in locslist if locsites[(loc,0)].owner==myID]\n",
    "# map_inner_attr(frontier,inner_locs,iterations = 10, decay = 0.1)\n",
    "map_inner_attr_rand(frontier,inner_locs,steps=10,iterations=500)\n",
    "\n",
    "state = {\n",
    "    'heat':'potential_attr',\n",
    "    'arrows':'direction'\n",
    "}\n",
    "\n",
    "plt.figure(figsize=(10,10))\n",
    "_ = plot_ims(gameMap,state)"
   ]
  },
  {
   "cell_type": "code",
   "execution_count": 52,
   "metadata": {
    "collapsed": false
   },
   "outputs": [
    {
     "data": {
      "image/png": "[encoded data removed]",
      "text/plain": [
       "<matplotlib.figure.Figure at 0x10c3fb410>"
      ]
     },
     "metadata": {},
     "output_type": "display_data"
    }
   ],
   "source": [
    "decay = 0.3\n",
    "momentumTerm = 0.\n",
    "\n",
    "#frontier = set(utils.frontier_tracking(frontier,myID,gameMap))\n",
    "frontier = set(utils.find_frontier(myID,gameMap))\n",
    "\n",
    "inner_frontier = get_inner_frontier(frontier,myID,gameMap)\n",
    "\n",
    "map_attractiveness(myID,gameMap)\n",
    "\n",
    "#adjust_frontier_potential(frontier,myID,gameMap,turn,enemy_attr=enemy_attr)\n",
    "\n",
    "#smooth_inner_frontier(inner_frontier,myID,gameMap)\n",
    "#smooth_inner_frontier(inner_frontier,myID,gameMap)\n",
    "#smooth_inner_frontier(inner_frontier,myID,gameMap)\n",
    "#smooth_inner_frontier(inner_frontier,myID,gameMap)\n",
    "\n",
    "map_potential_attr(frontier,myID,gameMap,decay=decay)\n",
    "\n",
    "#smooth_inner_frontier(inner_frontier,myID,gameMap)\n",
    "\n",
    "#map_potential_attr(frontier,myID,gameMap,decay=decay)\n",
    "\n",
    "map_directions(myID,gameMap,momentumMap,momentumTerm=momentumTerm)\n",
    "\n",
    "state = {\n",
    "    'arrows':'direction',\n",
    "    'color':'is_frontier'\n",
    "}\n",
    "\n",
    "plt.figure(figsize=(10,10))\n",
    "_ = plot_ims(gameMap,state)"
   ]
  },
  {
   "cell_type": "code",
   "execution_count": 60,
   "metadata": {
    "collapsed": false
   },
   "outputs": [],
   "source": [
    "locsmap = {(x,y):Location(x,y) for x in range(gameMap.width) for y in range(gameMap.height)}"
   ]
  },
  {
   "cell_type": "code",
   "execution_count": 65,
   "metadata": {
    "collapsed": true
   },
   "outputs": [],
   "source": [
    "locsites = {loc:gameMap.getSite(loc) for loc in locsmap.values()}"
   ]
  },
  {
   "cell_type": "code",
   "execution_count": 72,
   "metadata": {
    "collapsed": true
   },
   "outputs": [],
   "source": [
    "locsites_d = {(loc,d):gameMap.getSite(loc,d) for loc in locsmap.values() for d in CARDINALS}"
   ]
  },
  {
   "cell_type": "code",
   "execution_count": 77,
   "metadata": {
    "collapsed": false
   },
   "outputs": [
    {
     "name": "stdout",
     "output_type": "stream",
     "text": [
      "10 loops, best of 3: 33.4 ms per loop\n"
     ]
    }
   ],
   "source": [
    "%timeit {(loc,d):gameMap.getSite(loc,d) for loc in locsmap.values() for d in CARDINALS}"
   ]
  },
  {
   "cell_type": "code",
   "execution_count": 80,
   "metadata": {
    "collapsed": false
   },
   "outputs": [
    {
     "name": "stdout",
     "output_type": "stream",
     "text": [
      "The slowest run took 7.06 times longer than the fastest. This could mean that an intermediate result is being cached.\n",
      "100000 loops, best of 3: 8.48 µs per loop\n"
     ]
    }
   ],
   "source": [
    "%timeit gameMap.getSite(loc)"
   ]
  },
  {
   "cell_type": "code",
   "execution_count": null,
   "metadata": {
    "collapsed": true
   },
   "outputs": [],
   "source": []
  },
  {
   "cell_type": "code",
   "execution_count": 75,
   "metadata": {
    "collapsed": true
   },
   "outputs": [],
   "source": [
    "def attr_direction(loc,d,gameMap,momentumMap,momentumTerm=0.5):\n",
    "    potential = locsites_d[(loc,d)].potential_attr\n",
    "    inv_d = utils.invert_direction(d)\n",
    "    # if d == momentumMap[loc]:\n",
    "    #     momentum = momentumTerm\n",
    "    if inv_d == momentumMap[loc]:\n",
    "        momentum = -momentumTerm\n",
    "    else:\n",
    "        momentum = 0.\n",
    "    return potential + momentum\n",
    "\n",
    "def map_directions(myID,gameMap,momentumMap,momentumTerm=0.5):\n",
    "    for y in range(gameMap.height):\n",
    "        for x in range(gameMap.width):\n",
    "            loc = locsmap[(x,y)]\n",
    "            #loc = Location(x,y)\n",
    "            #site = gameMap.getSite(loc)\n",
    "            site = locsites[loc]\n",
    "            if site.owner!=myID:\n",
    "                site.direction=None\n",
    "                #site.potential_direction=None\n",
    "                continue\n",
    "            # site.potential_direction = max(CARDINALS,key=lambda d:attr_direction(loc,d,gameMap,momentumMap,momentumTerm=0.))\n",
    "            #momentum_d = momentumMap[loc]\n",
    "            \n",
    "            site.direction = max(CARDINALS,key=lambda d:attr_direction(loc,d,gameMap,momentumMap,momentumTerm=momentumTerm))"
   ]
  },
  {
   "cell_type": "code",
   "execution_count": 50,
   "metadata": {
    "collapsed": false
   },
   "outputs": [
    {
     "name": "stdout",
     "output_type": "stream",
     "text": [
      "10 loops, best of 3: 20.2 ms per loop\n"
     ]
    }
   ],
   "source": [
    "%timeit map_directions(myID,gameMap,momentumMap)"
   ]
  },
  {
   "cell_type": "code",
   "execution_count": 52,
   "metadata": {
    "collapsed": false
   },
   "outputs": [
    {
     "name": "stdout",
     "output_type": "stream",
     "text": [
      "100 loops, best of 3: 8.14 ms per loop\n"
     ]
    }
   ],
   "source": [
    "%timeit map_directions(myID,gameMap,momentumMap)"
   ]
  },
  {
   "cell_type": "code",
   "execution_count": 54,
   "metadata": {
    "collapsed": false
   },
   "outputs": [
    {
     "name": "stdout",
     "output_type": "stream",
     "text": [
      "100 loops, best of 3: 8.22 ms per loop\n"
     ]
    }
   ],
   "source": [
    "%timeit map_directions(myID,gameMap,momentumMap)"
   ]
  },
  {
   "cell_type": "code",
   "execution_count": 56,
   "metadata": {
    "collapsed": false
   },
   "outputs": [
    {
     "name": "stdout",
     "output_type": "stream",
     "text": [
      "The slowest run took 52.77 times longer than the fastest. This could mean that an intermediate result is being cached.\n",
      "10000 loops, best of 3: 17.8 µs per loop\n"
     ]
    }
   ],
   "source": [
    "%timeit map_directions(myID,gameMap,momentumMap)"
   ]
  },
  {
   "cell_type": "code",
   "execution_count": 58,
   "metadata": {
    "collapsed": false
   },
   "outputs": [
    {
     "name": "stdout",
     "output_type": "stream",
     "text": [
      "1000 loops, best of 3: 274 µs per loop\n"
     ]
    }
   ],
   "source": [
    "%timeit map_directions(myID,gameMap,momentumMap)"
   ]
  },
  {
   "cell_type": "code",
   "execution_count": 62,
   "metadata": {
    "collapsed": false
   },
   "outputs": [
    {
     "name": "stdout",
     "output_type": "stream",
     "text": [
      "The slowest run took 8.07 times longer than the fastest. This could mean that an intermediate result is being cached.\n",
      "10000 loops, best of 3: 87.2 µs per loop\n"
     ]
    }
   ],
   "source": [
    "%timeit map_directions(myID,gameMap,momentumMap)"
   ]
  },
  {
   "cell_type": "code",
   "execution_count": 64,
   "metadata": {
    "collapsed": false
   },
   "outputs": [
    {
     "name": "stdout",
     "output_type": "stream",
     "text": [
      "100 loops, best of 3: 7.89 ms per loop\n"
     ]
    }
   ],
   "source": [
    "%timeit map_directions(myID,gameMap,momentumMap)"
   ]
  },
  {
   "cell_type": "code",
   "execution_count": 67,
   "metadata": {
    "collapsed": false
   },
   "outputs": [
    {
     "name": "stdout",
     "output_type": "stream",
     "text": [
      "The slowest run took 6.02 times longer than the fastest. This could mean that an intermediate result is being cached.\n",
      "1000 loops, best of 3: 377 µs per loop\n"
     ]
    }
   ],
   "source": [
    "%timeit map_directions(myID,gameMap,momentumMap)"
   ]
  },
  {
   "cell_type": "code",
   "execution_count": 69,
   "metadata": {
    "collapsed": false
   },
   "outputs": [
    {
     "name": "stdout",
     "output_type": "stream",
     "text": [
      "The slowest run took 5.97 times longer than the fastest. This could mean that an intermediate result is being cached.\n",
      "1000 loops, best of 3: 458 µs per loop\n"
     ]
    }
   ],
   "source": [
    "%timeit map_directions(myID,gameMap,momentumMap)"
   ]
  },
  {
   "cell_type": "code",
   "execution_count": 71,
   "metadata": {
    "collapsed": false
   },
   "outputs": [
    {
     "name": "stdout",
     "output_type": "stream",
     "text": [
      "100 loops, best of 3: 12.3 ms per loop\n"
     ]
    }
   ],
   "source": [
    "%timeit map_directions(myID,gameMap,momentumMap)"
   ]
  },
  {
   "cell_type": "code",
   "execution_count": 76,
   "metadata": {
    "collapsed": false
   },
   "outputs": [
    {
     "name": "stdout",
     "output_type": "stream",
     "text": [
      "100 loops, best of 3: 2.2 ms per loop\n"
     ]
    }
   ],
   "source": [
    "%timeit map_directions(myID,gameMap,momentumMap)"
   ]
  },
  {
   "cell_type": "code",
   "execution_count": null,
   "metadata": {
    "collapsed": true
   },
   "outputs": [],
   "source": []
  }
 ],
 "metadata": {
  "kernelspec": {
   "display_name": "Python [Root]",
   "language": "python",
   "name": "Python [Root]"
  },
  "language_info": {
   "codemirror_mode": {
    "name": "ipython",
    "version": 2
   },
   "file_extension": ".py",
   "mimetype": "text/x-python",
   "name": "python",
   "nbconvert_exporter": "python",
   "pygments_lexer": "ipython2",
   "version": "2.7.12"
  }
 },
 "nbformat": 4,
 "nbformat_minor": 0
}
